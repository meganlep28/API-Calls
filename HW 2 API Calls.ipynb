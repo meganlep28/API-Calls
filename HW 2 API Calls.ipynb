{
 "cells": [
  {
   "cell_type": "code",
   "execution_count": 1,
   "id": "27db9058-c745-4939-8ce5-4b9866d3fe39",
   "metadata": {},
   "outputs": [],
   "source": [
    "### data pulled from after market closed on 2/27 \n",
    "import json\n",
    "import pandas as pd\n",
    "import json\n",
    "import requests"
   ]
  },
  {
   "cell_type": "code",
   "execution_count": 11,
   "id": "1e3c19ae-fa7c-4bd5-8985-cbe9268e97dd",
   "metadata": {},
   "outputs": [
    {
     "name": "stdin",
     "output_type": "stream",
     "text": [
      " IE\n"
     ]
    },
    {
     "name": "stdout",
     "output_type": "stream",
     "text": [
      "The Stock we will research is:IE\n"
     ]
    }
   ],
   "source": [
    "stock=input()\n",
    "print(\"The Stock we will research is:\" + stock)"
   ]
  },
  {
   "cell_type": "code",
   "execution_count": 3,
   "id": "2a66a8ea-ec4a-46ae-b62c-4ca4cdb6d819",
   "metadata": {},
   "outputs": [
    {
     "name": "stdout",
     "output_type": "stream",
     "text": [
      "{\"quoteResponse\":{\"result\":[{\"language\":\"en-US\",\"region\":\"US\",\"quoteType\":\"EQUITY\",\"typeDisp\":\"Equity\",\"triggerable\":true,\"customPriceAlertConfidence\":\"HIGH\",\"currency\":\"USD\",\"marketState\":\"POSTPOST\",\"regularMarketChangePercent\":1.4114313,\"regularMarketPrice\":14.37,\"exchange\":\"ASE\",\"shortName\":\"Ivanhoe Electric Inc.\",\"longName\":\"Ivanhoe Electric Inc.\",\"messageBoardId\":\"finmb_715542551\",\"exchangeTimezoneName\":\"America/New_York\",\"exchangeTimezoneShortName\":\"EST\",\"gmtOffSetMilliseconds\":-18000000,\"market\":\"us_market\",\"esgPopulated\":false,\"firstTradeDateMilliseconds\":1656423000000,\"priceHint\":2,\"postMarketChangePercent\":1.7397356,\"postMarketTime\":1677536758,\"postMarketPrice\":14.62,\"postMarketChange\":0.25,\"regularMarketChange\":0.19999981,\"regularMarketTime\":1677531600,\"regularMarketDayHigh\":14.6799,\"regularMarketDayRange\":\"14.05 - 14.6799\",\"regularMarketDayLow\":14.05,\"regularMarketVolume\":243823,\"regularMarketPreviousClose\":14.17,\"bid\":14.3,\"ask\":14.38,\"bidSize\":12,\"askSize\":10,\"fullExchangeName\":\"NYSE American\",\"financialCurrency\":\"USD\",\"regularMarketOpen\":14.24,\"averageDailyVolume3Month\":257440,\"averageDailyVolume10Day\":330350,\"fiftyTwoWeekLowChange\":7.3599997,\"fiftyTwoWeekLowChangePercent\":1.0499285,\"fiftyTwoWeekRange\":\"7.01 - 15.98\",\"fiftyTwoWeekHighChange\":-1.6099997,\"fiftyTwoWeekHighChangePercent\":-0.10075092,\"fiftyTwoWeekLow\":7.01,\"fiftyTwoWeekHigh\":15.98,\"trailingAnnualDividendRate\":0.0,\"trailingAnnualDividendYield\":0.0,\"epsTrailingTwelveMonths\":-1.43,\"epsForward\":-0.7,\"epsCurrentYear\":-1.49,\"priceEpsCurrentYear\":-9.644295,\"sharesOutstanding\":92887904,\"bookValue\":2.625,\"fiftyDayAverage\":13.3454,\"fiftyDayAverageChange\":1.0246,\"fiftyDayAverageChangePercent\":0.07677552,\"twoHundredDayAverage\":10.658024,\"twoHundredDayAverageChange\":3.711976,\"twoHundredDayAverageChangePercent\":0.34827995,\"marketCap\":1334799232,\"forwardPE\":-20.528572,\"priceToBook\":5.4742856,\"sourceInterval\":15,\"exchangeDataDelayedBy\":0,\"ipoExpectedDate\":\"2022-06-28\",\"averageAnalystRating\":\"1.7 - Buy\",\"tradeable\":false,\"cryptoTradeable\":false,\"displayName\":\"Ivanhoe Electric\",\"symbol\":\"IE\"}],\"error\":null}}\n"
     ]
    }
   ],
   "source": [
    "apikey=\"zdhQV5ZHAO5JMQmP6Qm0v750oQcVTmVb3yDzoVaF\"\n",
    "\n",
    "url = \"https://yfapi.net/v6/finance/quote\"\n",
    "\n",
    "querystring = {\"symbols\":stock}\n",
    "\n",
    "headers = {\n",
    "    'x-api-key': apikey\n",
    "    }\n",
    "\n",
    "response = requests.request(\"GET\", url, headers=headers, params=querystring)\n",
    "\n",
    "print(response.text)"
   ]
  },
  {
   "cell_type": "code",
   "execution_count": 4,
   "id": "5828b13b-9834-4317-b85b-caf0dfc8ffa9",
   "metadata": {},
   "outputs": [
    {
     "name": "stdout",
     "output_type": "stream",
     "text": [
      "IE\n",
      "Ivanhoe Electric Inc.\n",
      "14.37\n"
     ]
    }
   ],
   "source": [
    "#getting the ticker, full name, and current price\n",
    "stock_json = response.json() \n",
    "sym = (str(stock_json['quoteResponse']['result'][0][\"symbol\"]))\n",
    "print(sym)\n",
    "\n",
    "full = (str(stock_json['quoteResponse']['result'][0][\"longName\"]))\n",
    "print(full)\n",
    "\n",
    "current = (str(stock_json['quoteResponse']['result'][0][\"regularMarketPrice\"]))\n",
    "print(current)"
   ]
  },
  {
   "cell_type": "code",
   "execution_count": 5,
   "id": "f6d92bcc-b021-4be5-a3d7-1f7ec7a547f5",
   "metadata": {},
   "outputs": [
    {
     "name": "stdout",
     "output_type": "stream",
     "text": [
      "0.00%\n"
     ]
    }
   ],
   "source": [
    "def get_profit_margins(stock):\n",
    "    try:\n",
    "        global apikey\n",
    "        url = \"https://yfapi.net/v11/finance/quoteSummary/\" +stock+ \"?lang=en&region=US&modules=defaultKeyStatistics%2CassetProfile\"\n",
    "        querystring = {\"symbols\" : stock}\n",
    "        headers = {\n",
    "            'x-api-key' : apikey\n",
    "            }\n",
    "        response = requests.request(\"GET\", url, headers=headers, params=querystring)\n",
    "        stock_json = response.json()\n",
    "        return str(stock_json['quoteSummary']['result'][0]['defaultKeyStatistics']['profitMargins']['fmt'])\n",
    "    except:\n",
    "        print(\"the stock doesn’t exist and/or the API is not returning information\")\n",
    "print(get_profit_margins(stock))"
   ]
  },
  {
   "cell_type": "code",
   "execution_count": 6,
   "id": "dbe92a01-3de5-48bc-9251-fefa2cbbf4ed",
   "metadata": {},
   "outputs": [
    {
     "name": "stdout",
     "output_type": "stream",
     "text": [
      "Target Price: 17.25; Total Cash: 177.67M\n"
     ]
    }
   ],
   "source": [
    "def get_target_price(stock):\n",
    "    try:\n",
    "        global apikey\n",
    "        url = \"https://yfapi.net/v11/finance/quoteSummary/\" +stock+ \"?lang=en&region=US&modules=financialData%2CassetProfile\"\n",
    "        querystring = {\"symbols\" : stock}\n",
    "        headers = {\n",
    "            'x-api-key' : apikey\n",
    "            }\n",
    "        response = requests.request(\"GET\", url, headers=headers, params=querystring)\n",
    "        stock_json = response.json()\n",
    "        return str(\"Target Price: \" + stock_json['quoteSummary']['result'][0]['financialData']['targetMeanPrice']['fmt'] + \"; Total Cash: \"  + str(stock_json['quoteSummary']['result'][0]['financialData']['totalCash']['fmt']))\n",
    "    except:\n",
    "        print(\"the stock doesn’t exist and/or the API is not returning information\")\n",
    "print(get_target_price(stock))"
   ]
  },
  {
   "cell_type": "code",
   "execution_count": 7,
   "id": "e139ed27-f1d3-4335-8888-5b85f190cb78",
   "metadata": {},
   "outputs": [
    {
     "name": "stdout",
     "output_type": "stream",
     "text": [
      "[{'TICKER': 'IE', 'FULL NAME:': 'Ivanhoe Electric Inc.', 'CURRENT MARKET PRICE': '14.37', 'PROFIT MARGIN': '0.00%', 'TARGET MEAN PRICE': '17.25', 'TOTAL CASH': '177.67M'}]\n"
     ]
    }
   ],
   "source": [
    "dict = [{\n",
    "    \"TICKER\": sym, \n",
    "    \"FULL NAME:\": full, \n",
    "    \"CURRENT MARKET PRICE\": current, \n",
    "    \"PROFIT MARGIN\": '0.00%', \n",
    "    \"TARGET MEAN PRICE\": '17.25', \n",
    "    \"TOTAL CASH\": '177.67M'\n",
    "}]\n",
    "print(dict)"
   ]
  },
  {
   "cell_type": "code",
   "execution_count": 8,
   "id": "bc01dcef-0e78-4dc5-a0ad-fbcd43e8efd5",
   "metadata": {},
   "outputs": [
    {
     "name": "stdout",
     "output_type": "stream",
     "text": [
      "  TICKER             FULL NAME: CURRENT MARKET PRICE PROFIT MARGIN  \\\n",
      "0     IE  Ivanhoe Electric Inc.                14.37         0.00%   \n",
      "\n",
      "  TARGET MEAN PRICE TOTAL CASH  \n",
      "0             17.25    177.67M  \n"
     ]
    }
   ],
   "source": [
    "df = pd.DataFrame.from_dict(dict, orient = \"columns\")\n",
    "print(df)"
   ]
  },
  {
   "cell_type": "code",
   "execution_count": 9,
   "id": "96ec8c7b-c7a0-4cfb-971e-36a4f64afede",
   "metadata": {},
   "outputs": [
    {
     "data": {
      "text/plain": [
       "True"
      ]
     },
     "execution_count": 9,
     "metadata": {},
     "output_type": "execute_result"
    }
   ],
   "source": [
    "import pandas as pd\n",
    "isinstance(df, pd.DataFrame)"
   ]
  },
  {
   "cell_type": "code",
   "execution_count": 10,
   "id": "b365c07f-489d-48d0-8ae7-6de9a7bc12aa",
   "metadata": {},
   "outputs": [],
   "source": [
    "### data pulled from after market closed on 2/27 "
   ]
  }
 ],
 "metadata": {
  "kernelspec": {
   "display_name": "Python 3 (ipykernel)",
   "language": "python",
   "name": "python3"
  },
  "language_info": {
   "codemirror_mode": {
    "name": "ipython",
    "version": 3
   },
   "file_extension": ".py",
   "mimetype": "text/x-python",
   "name": "python",
   "nbconvert_exporter": "python",
   "pygments_lexer": "ipython3",
   "version": "3.8.13"
  }
 },
 "nbformat": 4,
 "nbformat_minor": 5
}
